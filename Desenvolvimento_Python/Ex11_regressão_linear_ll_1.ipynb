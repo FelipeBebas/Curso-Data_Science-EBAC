{
  "cells": [
    {
      "cell_type": "markdown",
      "metadata": {
        "id": "snF58q3kCTTN"
      },
      "source": [
        "# EBAC - Regressão II - regressão múltipla\n",
        "\n",
        "## Tarefa I"
      ]
    },
    {
      "cell_type": "markdown",
      "metadata": {
        "id": "9YOkdbZQCTTO"
      },
      "source": [
        "#### Previsão de renda\n",
        "\n",
        "Vamos trabalhar com a base 'previsao_de_renda.csv', que é a base do seu próximo projeto. Vamos usar os recursos que vimos até aqui nesta base.\n",
        "\n",
        "|variavel|descrição|\n",
        "|-|-|\n",
        "|data_ref                | Data de referência de coleta das variáveis |\n",
        "|index                   | Código de identificação do cliente|\n",
        "|sexo                    | Sexo do cliente|\n",
        "|posse_de_veiculo        | Indica se o cliente possui veículo|\n",
        "|posse_de_imovel         | Indica se o cliente possui imóvel|\n",
        "|qtd_filhos              | Quantidade de filhos do cliente|\n",
        "|tipo_renda              | Tipo de renda do cliente|\n",
        "|educacao                | Grau de instrução do cliente|\n",
        "|estado_civil            | Estado civil do cliente|\n",
        "|tipo_residencia         | Tipo de residência do cliente (própria, alugada etc)|\n",
        "|idade                   | Idade do cliente|\n",
        "|tempo_emprego           | Tempo no emprego atual|\n",
        "|qt_pessoas_residencia   | Quantidade de pessoas que moram na residência|\n",
        "|renda                   | Renda em reais|"
      ]
    },
    {
      "cell_type": "code",
      "execution_count": null,
      "metadata": {
        "id": "Z4_fxZXnCTTP"
      },
      "outputs": [],
      "source": [
        "import pandas as pd\n",
        "import numpy as np\n",
        "import patsy\n",
        "import statsmodels.api as sm"
      ]
    },
    {
      "cell_type": "code",
      "execution_count": null,
      "metadata": {
        "id": "RVAVuScZCTTP"
      },
      "outputs": [],
      "source": [
        "df = pd.read_csv('/content/sample_data/previsao_de_renda.csv')"
      ]
    },
    {
      "cell_type": "code",
      "execution_count": null,
      "metadata": {
        "colab": {
          "base_uri": "https://localhost:8080/"
        },
        "id": "qeR8nY29CTTP",
        "outputId": "dcb95f68-4412-4e31-ede8-8ab4a1bb9f61"
      },
      "outputs": [
        {
          "output_type": "stream",
          "name": "stdout",
          "text": [
            "<class 'pandas.core.frame.DataFrame'>\n",
            "RangeIndex: 15000 entries, 0 to 14999\n",
            "Data columns (total 15 columns):\n",
            " #   Column                 Non-Null Count  Dtype  \n",
            "---  ------                 --------------  -----  \n",
            " 0   Unnamed: 0             15000 non-null  int64  \n",
            " 1   data_ref               15000 non-null  object \n",
            " 2   id_cliente             15000 non-null  int64  \n",
            " 3   sexo                   15000 non-null  object \n",
            " 4   posse_de_veiculo       15000 non-null  bool   \n",
            " 5   posse_de_imovel        15000 non-null  bool   \n",
            " 6   qtd_filhos             15000 non-null  int64  \n",
            " 7   tipo_renda             15000 non-null  object \n",
            " 8   educacao               15000 non-null  object \n",
            " 9   estado_civil           15000 non-null  object \n",
            " 10  tipo_residencia        15000 non-null  object \n",
            " 11  idade                  15000 non-null  int64  \n",
            " 12  tempo_emprego          12427 non-null  float64\n",
            " 13  qt_pessoas_residencia  15000 non-null  float64\n",
            " 14  renda                  15000 non-null  float64\n",
            "dtypes: bool(2), float64(3), int64(4), object(6)\n",
            "memory usage: 1.5+ MB\n"
          ]
        }
      ],
      "source": [
        "df.info()"
      ]
    },
    {
      "cell_type": "code",
      "execution_count": null,
      "metadata": {
        "id": "IldI9LEYCTTQ"
      },
      "outputs": [],
      "source": [
        "# Removendo coluna Unnamed: 0, data_ref e id_cliente\n",
        "df.drop(columns=['Unnamed: 0', 'data_ref', 'id_cliente'], inplace=True)"
      ]
    },
    {
      "cell_type": "markdown",
      "metadata": {
        "id": "qs-QQF20CTTQ"
      },
      "source": [
        "1. Ajuste um modelo para prever log(renda) considerando todas as covariáveis disponíveis.\n",
        "    - Utilizando os recursos do Patsy, coloque as variáveis qualitativas como *dummies*.\n",
        "    - Mantenha sempre a categoria mais frequente como casela de referência\n",
        "    - Avalie os parâmetros e veja se parecem fazer sentido prático.  \n",
        "\n",
        "\n",
        "2. Remova a variável menos significante e analise:\n",
        "    - Observe os indicadores que vimos, e avalie se o modelo melhorou ou piorou na sua opinião.\n",
        "    - Observe os parâmetros e veja se algum se alterou muito.  \n",
        "\n",
        "\n",
        "3. Siga removendo as variáveis menos significantes, sempre que o *p-value* for menor que 5%. Compare o modelo final com o inicial. Observe os indicadores e conclua se o modelo parece melhor.\n",
        "    "
      ]
    },
    {
      "cell_type": "code",
      "execution_count": null,
      "metadata": {
        "colab": {
          "base_uri": "https://localhost:8080/"
        },
        "id": "9e6ssZkTRNC1",
        "outputId": "fed0136c-fa05-4ae8-e64a-d5b831383d7a"
      },
      "outputs": [
        {
          "output_type": "stream",
          "name": "stdout",
          "text": [
            "                            OLS Regression Results                            \n",
            "==============================================================================\n",
            "Dep. Variable:          np.log(renda)   R-squared:                       0.355\n",
            "Model:                            OLS   Adj. R-squared:                  0.354\n",
            "Method:                 Least Squares   F-statistic:                     310.4\n",
            "Date:                Thu, 27 Mar 2025   Prob (F-statistic):               0.00\n",
            "Time:                        15:46:11   Log-Likelihood:                -13591.\n",
            "No. Observations:               12427   AIC:                         2.723e+04\n",
            "Df Residuals:                   12404   BIC:                         2.740e+04\n",
            "Df Model:                          22                                         \n",
            "Covariance Type:            nonrobust                                         \n",
            "=======================================================================================================\n",
            "                                          coef    std err          t      P>|t|      [0.025      0.975]\n",
            "-------------------------------------------------------------------------------------------------------\n",
            "Intercept                               6.6285      0.235     28.155      0.000       6.167       7.090\n",
            "C(sexo)[T.M]                            0.7994      0.014     57.337      0.000       0.772       0.827\n",
            "C(tipo_renda)[T.Bolsista]               0.2272      0.242      0.941      0.347      -0.246       0.701\n",
            "C(tipo_renda)[T.Empresário]             0.1562      0.015     10.443      0.000       0.127       0.186\n",
            "C(tipo_renda)[T.Pensionista]           -0.3299      0.242     -1.365      0.172      -0.804       0.144\n",
            "C(tipo_renda)[T.Servidor público]       0.0553      0.022      2.485      0.013       0.012       0.099\n",
            "C(educacao)[T.Pós graduação]            0.1388      0.159      0.872      0.383      -0.173       0.451\n",
            "C(educacao)[T.Secundário]              -0.0186      0.072     -0.259      0.796      -0.160       0.123\n",
            "C(educacao)[T.Superior completo]        0.0941      0.072      1.300      0.194      -0.048       0.236\n",
            "C(educacao)[T.Superior incompleto]     -0.0519      0.078     -0.667      0.505      -0.205       0.101\n",
            "C(estado_civil)[T.Separado]             0.3179      0.111      2.853      0.004       0.100       0.536\n",
            "C(estado_civil)[T.Solteiro]             0.2699      0.109      2.474      0.013       0.056       0.484\n",
            "C(estado_civil)[T.União]               -0.0428      0.025     -1.701      0.089      -0.092       0.007\n",
            "C(estado_civil)[T.Viúvo]                0.3735      0.116      3.226      0.001       0.147       0.601\n",
            "C(tipo_residencia)[T.Casa]             -0.0333      0.054     -0.614      0.539      -0.140       0.073\n",
            "C(tipo_residencia)[T.Com os pais]      -0.0407      0.060     -0.673      0.501      -0.159       0.078\n",
            "C(tipo_residencia)[T.Comunitário]      -0.1148      0.106     -1.087      0.277      -0.322       0.092\n",
            "C(tipo_residencia)[T.Estúdio]           0.0718      0.099      0.722      0.470      -0.123       0.267\n",
            "C(tipo_residencia)[T.Governamental]    -0.0765      0.066     -1.159      0.247      -0.206       0.053\n",
            "tempo_emprego                           0.0615      0.001     59.121      0.000       0.059       0.064\n",
            "qtd_filhos                             -0.2681      0.108     -2.479      0.013      -0.480      -0.056\n",
            "idade                                   0.0056      0.001      6.982      0.000       0.004       0.007\n",
            "qt_pessoas_residencia                   0.2975      0.108      2.756      0.006       0.086       0.509\n",
            "==============================================================================\n",
            "Omnibus:                        0.464   Durbin-Watson:                   2.022\n",
            "Prob(Omnibus):                  0.793   Jarque-Bera (JB):                0.458\n",
            "Skew:                           0.015   Prob(JB):                        0.795\n",
            "Kurtosis:                       3.003   Cond. No.                     2.18e+03\n",
            "==============================================================================\n",
            "\n",
            "Notes:\n",
            "[1] Standard Errors assume that the covariance matrix of the errors is correctly specified.\n",
            "[2] The condition number is large, 2.18e+03. This might indicate that there are\n",
            "strong multicollinearity or other numerical problems.\n"
          ]
        }
      ],
      "source": [
        "# 1) Ajuste um modelo para prever log(renda) considerando todas as covariáveis disponíveis\n",
        "\n",
        "# Fórmula para prever log(renda)\n",
        "formula = 'np.log(renda) ~ C(sexo) + C(tipo_renda) + C(educacao) + C(estado_civil) + C(tipo_residencia) + tempo_emprego + qtd_filhos + idade + qt_pessoas_residencia'\n",
        "\n",
        "# Gera X (covariáveis) e y (variável dependente)\n",
        "y, X = patsy.dmatrices(formula, data=df, return_type='dataframe')\n",
        "\n",
        "# Ajustar o modelo de regressão\n",
        "modelo = sm.OLS(y, X).fit()\n",
        "\n",
        "# Resumo dos parâmetros\n",
        "print(modelo.summary())"
      ]
    },
    {
      "cell_type": "code",
      "execution_count": null,
      "metadata": {
        "colab": {
          "base_uri": "https://localhost:8080/"
        },
        "id": "AdoRUoBPeXA3",
        "outputId": "e3630b39-f082-4d0e-ab2b-24bdc4a46e32"
      },
      "outputs": [
        {
          "output_type": "stream",
          "name": "stdout",
          "text": [
            "educacao\n",
            "Secundário             8895\n",
            "Superior completo      5335\n",
            "Superior incompleto     579\n",
            "Primário                165\n",
            "Pós graduação            26\n",
            "Name: count, dtype: int64\n",
            "\n",
            "\n",
            "tipo_renda\n",
            "Assalariado         7633\n",
            "Empresário          3508\n",
            "Pensionista         2582\n",
            "Servidor público    1268\n",
            "Bolsista               9\n",
            "Name: count, dtype: int64\n",
            "\n",
            "\n",
            "estado_civil\n",
            "Casado      10534\n",
            "Solteiro     1798\n",
            "União        1078\n",
            "Separado      879\n",
            "Viúvo         711\n",
            "Name: count, dtype: int64\n",
            "\n",
            "\n",
            "tipo_residencia\n",
            "Casa             13532\n",
            "Com os pais        675\n",
            "Governamental      452\n",
            "Aluguel            194\n",
            "Estúdio             83\n",
            "Comunitário         64\n",
            "Name: count, dtype: int64\n"
          ]
        }
      ],
      "source": [
        "# Mantenha sempre a categoria mais frequente como casela de referência\n",
        "# Encontrando as variáveis mais frequentes de cada categoria:\n",
        "\n",
        "print(df['educacao'].value_counts())\n",
        "print('\\n')\n",
        "print(df['tipo_renda'].value_counts())\n",
        "print('\\n')\n",
        "print(df['estado_civil'].value_counts())\n",
        "print('\\n')\n",
        "print(df['tipo_residencia'].value_counts())"
      ]
    },
    {
      "cell_type": "code",
      "source": [
        "# Formula atualizada com Treatmente para cada categoria\n",
        "formula_atualizada = 'np.log(renda) ~ C(educacao, Treatment(reference=\"Secundário\")) + C(sexo) + C(tipo_renda, Treatment(reference=\"Assalariado\")) + C(estado_civil, Treatment(reference=\"Casado\")) + C(tipo_residencia, Treatment(reference=\"Casa\")) + tempo_emprego + qtd_filhos + idade + qt_pessoas_residencia'"
      ],
      "metadata": {
        "id": "x2AttbjFFKDn"
      },
      "execution_count": null,
      "outputs": []
    },
    {
      "cell_type": "code",
      "source": [
        "# Gera X (covariáveis) e y (variável dependente)\n",
        "y, X = patsy.dmatrices(formula_atualizada, data=df, return_type='dataframe')\n",
        "\n",
        "# Ajustar o modelo de regressão\n",
        "modelo_at0 = sm.OLS(y, X).fit()\n",
        "\n",
        "# Resumo do modelo atualizado\n",
        "print(modelo_at0.summary())"
      ],
      "metadata": {
        "colab": {
          "base_uri": "https://localhost:8080/"
        },
        "id": "dESbBYZaLpxo",
        "outputId": "ae636a32-9307-41b4-e657-63c9cfba7d0a"
      },
      "execution_count": null,
      "outputs": [
        {
          "output_type": "stream",
          "name": "stdout",
          "text": [
            "                            OLS Regression Results                            \n",
            "==============================================================================\n",
            "Dep. Variable:          np.log(renda)   R-squared:                       0.355\n",
            "Model:                            OLS   Adj. R-squared:                  0.354\n",
            "Method:                 Least Squares   F-statistic:                     310.4\n",
            "Date:                Thu, 27 Mar 2025   Prob (F-statistic):               0.00\n",
            "Time:                        16:18:39   Log-Likelihood:                -13591.\n",
            "No. Observations:               12427   AIC:                         2.723e+04\n",
            "Df Residuals:                   12404   BIC:                         2.740e+04\n",
            "Df Model:                          22                                         \n",
            "Covariance Type:            nonrobust                                         \n",
            "=========================================================================================================================================\n",
            "                                                                            coef    std err          t      P>|t|      [0.025      0.975]\n",
            "-----------------------------------------------------------------------------------------------------------------------------------------\n",
            "Intercept                                                                 6.5766      0.219     30.050      0.000       6.148       7.006\n",
            "C(educacao, Treatment(reference=\"Secundário\"))[T.Primário]                0.0186      0.072      0.259      0.796      -0.123       0.160\n",
            "C(educacao, Treatment(reference=\"Secundário\"))[T.Pós graduação]           0.1575      0.142      1.107      0.268      -0.121       0.436\n",
            "C(educacao, Treatment(reference=\"Secundário\"))[T.Superior completo]       0.1128      0.014      8.121      0.000       0.086       0.140\n",
            "C(educacao, Treatment(reference=\"Secundário\"))[T.Superior incompleto]    -0.0333      0.032     -1.030      0.303      -0.097       0.030\n",
            "C(sexo)[T.M]                                                              0.7994      0.014     57.337      0.000       0.772       0.827\n",
            "C(tipo_renda, Treatment(reference=\"Assalariado\"))[T.Bolsista]             0.2272      0.242      0.941      0.347      -0.246       0.701\n",
            "C(tipo_renda, Treatment(reference=\"Assalariado\"))[T.Empresário]           0.1562      0.015     10.443      0.000       0.127       0.186\n",
            "C(tipo_renda, Treatment(reference=\"Assalariado\"))[T.Pensionista]         -0.3299      0.242     -1.365      0.172      -0.804       0.144\n",
            "C(tipo_renda, Treatment(reference=\"Assalariado\"))[T.Servidor público]     0.0553      0.022      2.485      0.013       0.012       0.099\n",
            "C(estado_civil, Treatment(reference=\"Casado\"))[T.Separado]                0.3179      0.111      2.853      0.004       0.100       0.536\n",
            "C(estado_civil, Treatment(reference=\"Casado\"))[T.Solteiro]                0.2699      0.109      2.474      0.013       0.056       0.484\n",
            "C(estado_civil, Treatment(reference=\"Casado\"))[T.União]                  -0.0428      0.025     -1.701      0.089      -0.092       0.007\n",
            "C(estado_civil, Treatment(reference=\"Casado\"))[T.Viúvo]                   0.3735      0.116      3.226      0.001       0.147       0.601\n",
            "C(tipo_residencia, Treatment(reference=\"Casa\"))[T.Aluguel]                0.0333      0.054      0.614      0.539      -0.073       0.140\n",
            "C(tipo_residencia, Treatment(reference=\"Casa\"))[T.Com os pais]           -0.0074      0.029     -0.253      0.800      -0.065       0.050\n",
            "C(tipo_residencia, Treatment(reference=\"Casa\"))[T.Comunitário]           -0.0815      0.091     -0.894      0.371      -0.260       0.097\n",
            "C(tipo_residencia, Treatment(reference=\"Casa\"))[T.Estúdio]                0.1051      0.084      1.251      0.211      -0.060       0.270\n",
            "C(tipo_residencia, Treatment(reference=\"Casa\"))[T.Governamental]         -0.0432      0.039     -1.114      0.265      -0.119       0.033\n",
            "tempo_emprego                                                             0.0615      0.001     59.121      0.000       0.059       0.064\n",
            "qtd_filhos                                                               -0.2681      0.108     -2.479      0.013      -0.480      -0.056\n",
            "idade                                                                     0.0056      0.001      6.982      0.000       0.004       0.007\n",
            "qt_pessoas_residencia                                                     0.2975      0.108      2.756      0.006       0.086       0.509\n",
            "==============================================================================\n",
            "Omnibus:                        0.464   Durbin-Watson:                   2.022\n",
            "Prob(Omnibus):                  0.793   Jarque-Bera (JB):                0.458\n",
            "Skew:                           0.015   Prob(JB):                        0.795\n",
            "Kurtosis:                       3.003   Cond. No.                     2.13e+03\n",
            "==============================================================================\n",
            "\n",
            "Notes:\n",
            "[1] Standard Errors assume that the covariance matrix of the errors is correctly specified.\n",
            "[2] The condition number is large, 2.13e+03. This might indicate that there are\n",
            "strong multicollinearity or other numerical problems.\n"
          ]
        }
      ]
    },
    {
      "cell_type": "code",
      "execution_count": null,
      "metadata": {
        "colab": {
          "base_uri": "https://localhost:8080/"
        },
        "id": "zZmghUVkES3C",
        "outputId": "ad86f27a-86ee-4a33-fb17-590c76d93dae"
      },
      "outputs": [
        {
          "output_type": "stream",
          "name": "stdout",
          "text": [
            "                            OLS Regression Results                            \n",
            "==============================================================================\n",
            "Dep. Variable:          np.log(renda)   R-squared:                       0.356\n",
            "Model:                            OLS   Adj. R-squared:                  0.355\n",
            "Method:                 Least Squares   F-statistic:                     309.3\n",
            "Date:                Thu, 27 Mar 2025   Prob (F-statistic):               0.00\n",
            "Time:                        15:49:56   Log-Likelihood:                -12887.\n",
            "No. Observations:               11753   AIC:                         2.582e+04\n",
            "Df Residuals:                   11731   BIC:                         2.598e+04\n",
            "Df Model:                          21                                         \n",
            "Covariance Type:            nonrobust                                         \n",
            "=========================================================================================================================================\n",
            "                                                                            coef    std err          t      P>|t|      [0.025      0.975]\n",
            "-----------------------------------------------------------------------------------------------------------------------------------------\n",
            "Intercept                                                                 6.5839      0.220     29.973      0.000       6.153       7.014\n",
            "C(educacao, Treatment(reference=\"Secundário\"))[T.Primário]               -0.0091      0.076     -0.119      0.905      -0.158       0.140\n",
            "C(educacao, Treatment(reference=\"Secundário\"))[T.Pós graduação]           0.1534      0.143      1.075      0.282      -0.126       0.433\n",
            "C(educacao, Treatment(reference=\"Secundário\"))[T.Superior completo]       0.1014      0.014      7.091      0.000       0.073       0.129\n",
            "C(educacao, Treatment(reference=\"Secundário\"))[T.Superior incompleto]    -0.0318      0.034     -0.929      0.353      -0.099       0.035\n",
            "C(sexo)[T.M]                                                              0.8055      0.014     55.824      0.000       0.777       0.834\n",
            "C(tipo_renda, Treatment(reference=\"Assalariado\"))[T.Bolsista]             0.2375      0.242      0.980      0.327      -0.237       0.712\n",
            "C(tipo_renda, Treatment(reference=\"Assalariado\"))[T.Empresário]           0.1584      0.015     10.315      0.000       0.128       0.189\n",
            "C(tipo_renda, Treatment(reference=\"Assalariado\"))[T.Pensionista]         -0.3200      0.242     -1.320      0.187      -0.795       0.155\n",
            "C(tipo_renda, Treatment(reference=\"Assalariado\"))[T.Servidor público]     0.0537      0.023      2.336      0.019       0.009       0.099\n",
            "C(estado_civil, Treatment(reference=\"Casado\"))[T.Separado]                0.3229      0.112      2.884      0.004       0.103       0.542\n",
            "C(estado_civil, Treatment(reference=\"Casado\"))[T.Solteiro]                0.2629      0.109      2.402      0.016       0.048       0.478\n",
            "C(estado_civil, Treatment(reference=\"Casado\"))[T.União]                  -0.0509      0.026     -1.946      0.052      -0.102       0.000\n",
            "C(estado_civil, Treatment(reference=\"Casado\"))[T.Viúvo]                   0.3759      0.116      3.235      0.001       0.148       0.604\n",
            "C(tipo_residencia, Treatment(reference=\"Casa\"))[T.Aluguel]                0.0318      0.054      0.584      0.559      -0.075       0.138\n",
            "C(tipo_residencia, Treatment(reference=\"Casa\"))[T.Comunitário]           -0.0755      0.091     -0.826      0.409      -0.255       0.104\n",
            "C(tipo_residencia, Treatment(reference=\"Casa\"))[T.Estúdio]                0.1050      0.084      1.246      0.213      -0.060       0.270\n",
            "C(tipo_residencia, Treatment(reference=\"Casa\"))[T.Governamental]         -0.0436      0.039     -1.120      0.263      -0.120       0.033\n",
            "tempo_emprego                                                             0.0614      0.001     57.929      0.000       0.059       0.063\n",
            "qtd_filhos                                                               -0.2702      0.108     -2.491      0.013      -0.483      -0.058\n",
            "idade                                                                     0.0054      0.001      6.579      0.000       0.004       0.007\n",
            "qt_pessoas_residencia                                                     0.2998      0.108      2.769      0.006       0.088       0.512\n",
            "==============================================================================\n",
            "Omnibus:                        1.532   Durbin-Watson:                   2.021\n",
            "Prob(Omnibus):                  0.465   Jarque-Bera (JB):                1.559\n",
            "Skew:                           0.025   Prob(JB):                        0.459\n",
            "Kurtosis:                       2.975   Cond. No.                     2.09e+03\n",
            "==============================================================================\n",
            "\n",
            "Notes:\n",
            "[1] Standard Errors assume that the covariance matrix of the errors is correctly specified.\n",
            "[2] The condition number is large, 2.09e+03. This might indicate that there are\n",
            "strong multicollinearity or other numerical problems.\n"
          ]
        }
      ],
      "source": [
        "# 2) Remova a variável menos significante e analise\n",
        "\n",
        "# Removendo [T.Com os pais]\n",
        "df_filtrado_v1 = df[df['tipo_residencia'] != 'Com os pais']\n",
        "\n",
        "# Gera X (covariáveis) e y (variável dependente)\n",
        "y, X = patsy.dmatrices(formula_atualizada, data=df_filtrado_v1, return_type='dataframe')\n",
        "\n",
        "# Ajustar o modelo de regressão\n",
        "modelo_at1 = sm.OLS(y, X).fit()\n",
        "\n",
        "# Resumo do modelo atualizado\n",
        "print(modelo_at1.summary())"
      ]
    },
    {
      "cell_type": "code",
      "source": [
        "#3) Siga removendo as variáveis menos significantes, sempre que o p-value for menor que 5%. Compare o modelo final com o inicial.\n",
        "\n",
        "# Filtrar removendo múltiplas categorias\n",
        "df_filtrado_v2 = df[~df['tipo_residencia'].isin(['Com os pais', 'Aluguel']) & ~df['educacao'].isin(['Primário', 'Superior incompleto'])]\n",
        "\n",
        "# Gera X (covariáveis) e y (variável dependente)\n",
        "y, X = patsy.dmatrices(formula, data=df_filtrado_v2, return_type='dataframe')\n",
        "\n",
        "# Ajustar o modelo de regressão\n",
        "modelo_at_2 = sm.OLS(y, X).fit()\n",
        "\n",
        "# Resumo do modelo atualizado\n",
        "print(modelo_at_2.summary())"
      ],
      "metadata": {
        "colab": {
          "base_uri": "https://localhost:8080/"
        },
        "id": "EXRpDYIWoDae",
        "outputId": "e5b74518-43f0-46ca-cb3f-18fdafe180e5"
      },
      "execution_count": null,
      "outputs": [
        {
          "output_type": "stream",
          "name": "stdout",
          "text": [
            "                            OLS Regression Results                            \n",
            "==============================================================================\n",
            "Dep. Variable:          np.log(renda)   R-squared:                       0.360\n",
            "Model:                            OLS   Adj. R-squared:                  0.359\n",
            "Method:                 Least Squares   F-statistic:                     342.8\n",
            "Date:                Thu, 27 Mar 2025   Prob (F-statistic):               0.00\n",
            "Time:                        16:17:43   Log-Likelihood:                -12077.\n",
            "No. Observations:               11000   AIC:                         2.419e+04\n",
            "Df Residuals:                   10981   BIC:                         2.433e+04\n",
            "Df Model:                          18                                         \n",
            "Covariance Type:            nonrobust                                         \n",
            "=======================================================================================================\n",
            "                                          coef    std err          t      P>|t|      [0.025      0.975]\n",
            "-------------------------------------------------------------------------------------------------------\n",
            "Intercept                               6.7520      0.262     25.757      0.000       6.238       7.266\n",
            "C(sexo)[T.M]                            0.8170      0.015     54.558      0.000       0.788       0.846\n",
            "C(tipo_renda)[T.Bolsista]               0.2397      0.243      0.988      0.323      -0.236       0.715\n",
            "C(tipo_renda)[T.Empresário]             0.1614      0.016     10.136      0.000       0.130       0.193\n",
            "C(tipo_renda)[T.Pensionista]           -0.3287      0.243     -1.354      0.176      -0.805       0.147\n",
            "C(tipo_renda)[T.Servidor público]       0.0533      0.024      2.264      0.024       0.007       0.099\n",
            "C(educacao)[T.Secundário]              -0.1534      0.143     -1.073      0.283      -0.433       0.127\n",
            "C(educacao)[T.Superior completo]       -0.0496      0.143     -0.346      0.729      -0.330       0.231\n",
            "C(estado_civil)[T.Separado]             0.3099      0.112      2.759      0.006       0.090       0.530\n",
            "C(estado_civil)[T.Solteiro]             0.2687      0.110      2.448      0.014       0.054       0.484\n",
            "C(estado_civil)[T.União]               -0.0580      0.027     -2.125      0.034      -0.112      -0.005\n",
            "C(estado_civil)[T.Viúvo]                0.3678      0.117      3.152      0.002       0.139       0.597\n",
            "C(tipo_residencia)[T.Comunitário]      -0.0245      0.100     -0.244      0.807      -0.221       0.172\n",
            "C(tipo_residencia)[T.Estúdio]           0.1000      0.085      1.177      0.239      -0.067       0.267\n",
            "C(tipo_residencia)[T.Governamental]    -0.0543      0.040     -1.364      0.173      -0.132       0.024\n",
            "tempo_emprego                           0.0614      0.001     56.515      0.000       0.059       0.064\n",
            "qtd_filhos                             -0.2758      0.109     -2.539      0.011      -0.489      -0.063\n",
            "idade                                   0.0051      0.001      6.027      0.000       0.003       0.007\n",
            "qt_pessoas_residencia                   0.2980      0.108      2.748      0.006       0.085       0.511\n",
            "==============================================================================\n",
            "Omnibus:                        2.132   Durbin-Watson:                   2.018\n",
            "Prob(Omnibus):                  0.344   Jarque-Bera (JB):                2.159\n",
            "Skew:                           0.028   Prob(JB):                        0.340\n",
            "Kurtosis:                       2.961   Cond. No.                     2.19e+03\n",
            "==============================================================================\n",
            "\n",
            "Notes:\n",
            "[1] Standard Errors assume that the covariance matrix of the errors is correctly specified.\n",
            "[2] The condition number is large, 2.19e+03. This might indicate that there are\n",
            "strong multicollinearity or other numerical problems.\n"
          ]
        }
      ]
    },
    {
      "cell_type": "code",
      "source": [
        "# Removendo C(educacao)[T.Superior incompleto] do df\n",
        "df_filtrado_v3 = df[\n",
        "    ~df['tipo_residencia'].isin(['Com os pais', 'Aluguel', 'Comunitário', 'Estúdio', 'Governamental']) &\n",
        "    ~df['educacao'].isin(['Primário', 'Superior incompleto', 'Pós graduação']) &\n",
        "    ~df['tipo_renda'].isin(['Bolsista', 'Pensionista', 'Servidor público']) &\n",
        "    ~df['estado_civil'].isin(['União'])\n",
        "]\n",
        "\n",
        "# Gera X (covariáveis) e y (variável dependente)\n",
        "y, X = patsy.dmatrices(formula_atualizada, data=df_filtrado_v3, return_type='dataframe')\n",
        "\n",
        "# Ajustar o modelo de regressão\n",
        "modelo_at_3 = sm.OLS(y, X).fit()\n",
        "\n",
        "# Resumo do modelo atualizado\n",
        "print(modelo_at_3.summary())"
      ],
      "metadata": {
        "colab": {
          "base_uri": "https://localhost:8080/"
        },
        "id": "3RKodotiGFnh",
        "outputId": "e7f165b3-f92f-46f1-95ac-7f05393785d5"
      },
      "execution_count": null,
      "outputs": [
        {
          "output_type": "stream",
          "name": "stdout",
          "text": [
            "                            OLS Regression Results                            \n",
            "==============================================================================\n",
            "Dep. Variable:          np.log(renda)   R-squared:                       0.359\n",
            "Model:                            OLS   Adj. R-squared:                  0.358\n",
            "Method:                 Least Squares   F-statistic:                     486.7\n",
            "Date:                Thu, 27 Mar 2025   Prob (F-statistic):               0.00\n",
            "Time:                        16:25:10   Log-Likelihood:                -9502.1\n",
            "No. Observations:                8693   AIC:                         1.903e+04\n",
            "Df Residuals:                    8682   BIC:                         1.910e+04\n",
            "Df Model:                          10                                         \n",
            "Covariance Type:            nonrobust                                         \n",
            "=======================================================================================================================================\n",
            "                                                                          coef    std err          t      P>|t|      [0.025      0.975]\n",
            "---------------------------------------------------------------------------------------------------------------------------------------\n",
            "Intercept                                                               6.4585      0.239     27.079      0.000       5.991       6.926\n",
            "C(educacao, Treatment(reference=\"Secundário\"))[T.Superior completo]     0.1116      0.016      6.905      0.000       0.080       0.143\n",
            "C(sexo)[T.M]                                                            0.8207      0.017     49.706      0.000       0.788       0.853\n",
            "C(tipo_renda, Treatment(reference=\"Assalariado\"))[T.Empresário]         0.1678      0.017      9.890      0.000       0.135       0.201\n",
            "C(estado_civil, Treatment(reference=\"Casado\"))[T.Separado]              0.3662      0.121      3.018      0.003       0.128       0.604\n",
            "C(estado_civil, Treatment(reference=\"Casado\"))[T.Solteiro]              0.3434      0.119      2.888      0.004       0.110       0.576\n",
            "C(estado_civil, Treatment(reference=\"Casado\"))[T.Viúvo]                 0.4596      0.127      3.624      0.000       0.211       0.708\n",
            "tempo_emprego                                                           0.0613      0.001     48.888      0.000       0.059       0.064\n",
            "qtd_filhos                                                             -0.3530      0.118     -3.002      0.003      -0.583      -0.123\n",
            "idade                                                                   0.0053      0.001      5.709      0.000       0.003       0.007\n",
            "qt_pessoas_residencia                                                   0.3632      0.117      3.096      0.002       0.133       0.593\n",
            "==============================================================================\n",
            "Omnibus:                        0.148   Durbin-Watson:                   1.993\n",
            "Prob(Omnibus):                  0.929   Jarque-Bera (JB):                0.153\n",
            "Skew:                           0.010   Prob(JB):                        0.926\n",
            "Kurtosis:                       2.995   Cond. No.                     1.97e+03\n",
            "==============================================================================\n",
            "\n",
            "Notes:\n",
            "[1] Standard Errors assume that the covariance matrix of the errors is correctly specified.\n",
            "[2] The condition number is large, 1.97e+03. This might indicate that there are\n",
            "strong multicollinearity or other numerical problems.\n"
          ]
        }
      ]
    },
    {
      "cell_type": "markdown",
      "source": [
        "#### Relação de R²\n",
        "\n",
        "Vamos avaliar o desempenho do R² de cada modelo, de acordo com as variáveis excluidas.\n",
        "\n",
        "✔️ = R² maior do que o modelo base\n",
        "\n",
        "|Modelo| R² Obtido| Resultado |\n",
        "|-|-|-|\n",
        "|Modelo Base             | R² 0.355 | - |\n",
        "|df_filtrado_v1          | R² 0.356 | ✔️ |\n",
        "|df_filtrado_v2          | R² 0.360 | ✔️ |\n",
        "|df_filtrado_v3          | R² 0.359 | ✔️ |"
      ],
      "metadata": {
        "id": "pXVx49oVMfMZ"
      }
    }
  ],
  "metadata": {
    "colab": {
      "provenance": []
    },
    "kernelspec": {
      "display_name": "Python 3",
      "language": "python",
      "name": "python3"
    },
    "language_info": {
      "codemirror_mode": {
        "name": "ipython",
        "version": 3
      },
      "file_extension": ".py",
      "mimetype": "text/x-python",
      "name": "python",
      "nbconvert_exporter": "python",
      "pygments_lexer": "ipython3",
      "version": "3.8.5"
    }
  },
  "nbformat": 4,
  "nbformat_minor": 0
}