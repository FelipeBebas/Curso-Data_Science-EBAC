{
  "cells": [
    {
      "cell_type": "markdown",
      "metadata": {
        "id": "NariJqH6O3_0"
      },
      "source": [
        "# EBAC - Regressão II - regressão múltipla\n",
        "\n",
        "## Tarefa I"
      ]
    },
    {
      "cell_type": "markdown",
      "metadata": {
        "id": "j9kxfwYBO3_2"
      },
      "source": [
        "### Previsão de renda II\n",
        "\n",
        "Vamos continuar trabalhando com a base 'previsao_de_renda.csv', que é a base do seu próximo projeto. Vamos usar os recursos que vimos até aqui nesta base.\n",
        "\n",
        "|variavel|descrição|\n",
        "|-|-|\n",
        "|data_ref                | Data de referência de coleta das variáveis |\n",
        "|index                   | Código de identificação do cliente|\n",
        "|sexo                    | Sexo do cliente|\n",
        "|posse_de_veiculo        | Indica se o cliente possui veículo|\n",
        "|posse_de_imovel         | Indica se o cliente possui imóvel|\n",
        "|qtd_filhos              | Quantidade de filhos do cliente|\n",
        "|tipo_renda              | Tipo de renda do cliente|\n",
        "|educacao                | Grau de instrução do cliente|\n",
        "|estado_civil            | Estado civil do cliente|\n",
        "|tipo_residencia         | Tipo de residência do cliente (própria, alugada etc)|\n",
        "|idade                   | Idade do cliente|\n",
        "|tempo_emprego           | Tempo no emprego atual|\n",
        "|qt_pessoas_residencia   | Quantidade de pessoas que moram na residência|\n",
        "|renda                   | Renda em reais|"
      ]
    },
    {
      "cell_type": "code",
      "execution_count": 2,
      "metadata": {
        "id": "lRD5dQjMO3_3"
      },
      "outputs": [],
      "source": [
        "from sklearn.linear_model import Ridge\n",
        "from sklearn.model_selection import train_test_split\n",
        "from sklearn.metrics import mean_squared_error\n",
        "from sklearn.preprocessing import StandardScaler\n",
        "from sklearn.metrics import r2_score\n",
        "from sklearn.linear_model import Lasso\n",
        "from mlxtend.feature_selection import SequentialFeatureSelector\n",
        "from sklearn.linear_model import LinearRegression\n",
        "from sklearn.metrics import r2_score\n",
        "from sklearn.linear_model import Ridge, Lasso\n",
        "from sklearn.tree import DecisionTreeRegressor\n",
        "from sklearn.ensemble import RandomForestRegressor\n",
        "import statsmodels.api as sm\n",
        "\n",
        "import numpy as np\n",
        "import pandas as pd\n",
        "import patsy\n",
        "\n",
        "import matplotlib.pyplot as plt\n",
        "import seaborn as sns"
      ]
    },
    {
      "cell_type": "code",
      "execution_count": 3,
      "metadata": {
        "id": "2wEs2j1hO3_3"
      },
      "outputs": [],
      "source": [
        "df = pd.read_csv('/content/sample_data/previsao_de_renda.csv')"
      ]
    },
    {
      "cell_type": "code",
      "execution_count": 4,
      "metadata": {
        "colab": {
          "base_uri": "https://localhost:8080/"
        },
        "id": "MPa-o85bO3_4",
        "outputId": "1325ab05-9b3d-4aa3-e720-887622b3e5ab"
      },
      "outputs": [
        {
          "output_type": "stream",
          "name": "stdout",
          "text": [
            "<class 'pandas.core.frame.DataFrame'>\n",
            "RangeIndex: 15000 entries, 0 to 14999\n",
            "Data columns (total 15 columns):\n",
            " #   Column                 Non-Null Count  Dtype  \n",
            "---  ------                 --------------  -----  \n",
            " 0   Unnamed: 0             15000 non-null  int64  \n",
            " 1   data_ref               15000 non-null  object \n",
            " 2   id_cliente             15000 non-null  int64  \n",
            " 3   sexo                   15000 non-null  object \n",
            " 4   posse_de_veiculo       15000 non-null  bool   \n",
            " 5   posse_de_imovel        15000 non-null  bool   \n",
            " 6   qtd_filhos             15000 non-null  int64  \n",
            " 7   tipo_renda             15000 non-null  object \n",
            " 8   educacao               15000 non-null  object \n",
            " 9   estado_civil           15000 non-null  object \n",
            " 10  tipo_residencia        15000 non-null  object \n",
            " 11  idade                  15000 non-null  int64  \n",
            " 12  tempo_emprego          12427 non-null  float64\n",
            " 13  qt_pessoas_residencia  15000 non-null  float64\n",
            " 14  renda                  15000 non-null  float64\n",
            "dtypes: bool(2), float64(3), int64(4), object(6)\n",
            "memory usage: 1.5+ MB\n"
          ]
        }
      ],
      "source": [
        "df.info()"
      ]
    },
    {
      "cell_type": "markdown",
      "metadata": {
        "id": "A28PHCV9O3_4"
      },
      "source": [
        "==============================================================================================================\n",
        "\n",
        "1. Separe a base em treinamento e teste (25% para teste, 75% para treinamento).\n",
        "2. Rode uma regularização *ridge* com alpha = [0, 0.001, 0.005, 0.01, 0.05, 0.1] e avalie o $R^2$ na base de testes. Qual o melhor modelo?\n",
        "3. Faça o mesmo que no passo 2, com uma regressão *LASSO*. Qual método chega a um melhor resultado?\n",
        "4. Rode um modelo *stepwise*. Avalie o $R^2$ na vase de testes. Qual o melhor resultado?\n",
        "5. Compare os parâmetros e avalie eventuais diferenças. Qual modelo você acha o melhor de todos?\n",
        "6. Partindo dos modelos que você ajustou, tente melhorar o $R^2$ na base de testes. Use a criatividade, veja se consegue inserir alguma transformação ou combinação de variáveis.\n",
        "7. Ajuste uma árvore de regressão e veja se consegue um $R^2$ melhor com ela.\n",
        "\n",
        "=============================================================================================================="
      ]
    },
    {
      "cell_type": "code",
      "source": [
        "# Preparando os dados\n",
        "df.drop(columns=['Unnamed: 0', 'data_ref', 'id_cliente'], inplace=True)"
      ],
      "metadata": {
        "id": "BwbU6qPAwr-Q"
      },
      "execution_count": 5,
      "outputs": []
    },
    {
      "cell_type": "code",
      "source": [
        "# Analisando a distribuição da variável alvo\n",
        "\n",
        "plt.figure(figsize=(8, 5))\n",
        "sns.histplot(df['renda'], bins=50, kde=True)\n",
        "plt.title('Distribuição da Renda')\n",
        "plt.xlabel('Renda')\n",
        "plt.ylabel('Frequência')\n",
        "plt.show()\n"
      ],
      "metadata": {
        "colab": {
          "base_uri": "https://localhost:8080/",
          "height": 487
        },
        "id": "dGtAtnXP5wXA",
        "outputId": "baf40b10-9148-4fba-d6c9-dfcc0a7042ff"
      },
      "execution_count": 6,
      "outputs": [
        {
          "output_type": "display_data",
          "data": {
            "text/plain": [
              "<Figure size 800x500 with 1 Axes>"
            ],
            "image/png": "[encoded data removed]"
          },
          "metadata": {}
        }
      ]
    },
    {
      "cell_type": "code",
      "source": [
        "# Verificando valores nulos\n",
        "\n",
        "print(df.isnull().sum())"
      ],
      "metadata": {
        "colab": {
          "base_uri": "https://localhost:8080/"
        },
        "id": "tcgZk03lehK5",
        "outputId": "fe5fcf15-a1d8-4426-ca9d-36e6e8ec869e"
      },
      "execution_count": 7,
      "outputs": [
        {
          "output_type": "stream",
          "name": "stdout",
          "text": [
            "sexo                        0\n",
            "posse_de_veiculo            0\n",
            "posse_de_imovel             0\n",
            "qtd_filhos                  0\n",
            "tipo_renda                  0\n",
            "educacao                    0\n",
            "estado_civil                0\n",
            "tipo_residencia             0\n",
            "idade                       0\n",
            "tempo_emprego            2573\n",
            "qt_pessoas_residencia       0\n",
            "renda                       0\n",
            "dtype: int64\n"
          ]
        }
      ]
    },
    {
      "cell_type": "code",
      "source": [
        "# Inputando registros com a média móvel onde tempo_emprego é nulo\n",
        "\n",
        "df_otimizado = df.copy()\n",
        "df_otimizado['tempo_emprego'] = df_otimizado['tempo_emprego'].interpolate(method='linear')"
      ],
      "metadata": {
        "id": "ElmWUNju9gnw"
      },
      "execution_count": 8,
      "outputs": []
    },
    {
      "cell_type": "code",
      "source": [
        "df_otimizado.isna().sum()"
      ],
      "metadata": {
        "colab": {
          "base_uri": "https://localhost:8080/",
          "height": 460
        },
        "id": "Dl1LvtahHqRr",
        "outputId": "f0130d51-7e22-47f6-eaec-abc255cd084d"
      },
      "execution_count": 9,
      "outputs": [
        {
          "output_type": "execute_result",
          "data": {
            "text/plain": [
              "sexo                     0\n",
              "posse_de_veiculo         0\n",
              "posse_de_imovel          0\n",
              "qtd_filhos               0\n",
              "tipo_renda               0\n",
              "educacao                 0\n",
              "estado_civil             0\n",
              "tipo_residencia          0\n",
              "idade                    0\n",
              "tempo_emprego            0\n",
              "qt_pessoas_residencia    0\n",
              "renda                    0\n",
              "dtype: int64"
            ],
            "text/html": [
              "<div>\n",
              "<style scoped>\n",
              "    .dataframe tbody tr th:only-of-type {\n",
              "        vertical-align: middle;\n",
              "    }\n",
              "\n",
              "    .dataframe tbody tr th {\n",
              "        vertical-align: top;\n",
              "    }\n",
              "\n",
              "    .dataframe thead th {\n",
              "        text-align: right;\n",
              "    }\n",
              "</style>\n",
              "<table border=\"1\" class=\"dataframe\">\n",
              "  <thead>\n",
              "    <tr style=\"text-align: right;\">\n",
              "      <th></th>\n",
              "      <th>0</th>\n",
              "    </tr>\n",
              "  </thead>\n",
              "  <tbody>\n",
              "    <tr>\n",
              "      <th>sexo</th>\n",
              "      <td>0</td>\n",
              "    </tr>\n",
              "    <tr>\n",
              "      <th>posse_de_veiculo</th>\n",
              "      <td>0</td>\n",
              "    </tr>\n",
              "    <tr>\n",
              "      <th>posse_de_imovel</th>\n",
              "      <td>0</td>\n",
              "    </tr>\n",
              "    <tr>\n",
              "      <th>qtd_filhos</th>\n",
              "      <td>0</td>\n",
              "    </tr>\n",
              "    <tr>\n",
              "      <th>tipo_renda</th>\n",
              "      <td>0</td>\n",
              "    </tr>\n",
              "    <tr>\n",
              "      <th>educacao</th>\n",
              "      <td>0</td>\n",
              "    </tr>\n",
              "    <tr>\n",
              "      <th>estado_civil</th>\n",
              "      <td>0</td>\n",
              "    </tr>\n",
              "    <tr>\n",
              "      <th>tipo_residencia</th>\n",
              "      <td>0</td>\n",
              "    </tr>\n",
              "    <tr>\n",
              "      <th>idade</th>\n",
              "      <td>0</td>\n",
              "    </tr>\n",
              "    <tr>\n",
              "      <th>tempo_emprego</th>\n",
              "      <td>0</td>\n",
              "    </tr>\n",
              "    <tr>\n",
              "      <th>qt_pessoas_residencia</th>\n",
              "      <td>0</td>\n",
              "    </tr>\n",
              "    <tr>\n",
              "      <th>renda</th>\n",
              "      <td>0</td>\n",
              "    </tr>\n",
              "  </tbody>\n",
              "</table>\n",
              "</div><br><label><b>dtype:</b> int64</label>"
            ]
          },
          "metadata": {},
          "execution_count": 9
        }
      ]
    },
    {
      "cell_type": "code",
      "source": [
        "# Observando a distribuição de 'tempo_emprego' antes e depois da inputação de valores\n",
        "\n",
        "plt.figure(figsize=(10, 5))\n",
        "\n",
        "plt.subplot(1, 2, 1)\n",
        "sns.histplot(df['tempo_emprego'], bins=50, kde=True)\n",
        "plt.title('Antes do Preenchimento de Nulos')\n",
        "\n",
        "plt.subplot(1, 2, 2)\n",
        "sns.histplot(df_otimizado['tempo_emprego'], bins=50, kde=True)\n",
        "plt.title('Depois do Preenchimento de Nulos')\n",
        "\n",
        "plt.show()\n"
      ],
      "metadata": {
        "colab": {
          "base_uri": "https://localhost:8080/",
          "height": 487
        },
        "id": "7ueExVhx52Ms",
        "outputId": "a5d41a10-aec5-4f46-af58-7b6b3ea6d189"
      },
      "execution_count": 10,
      "outputs": [
        {
          "output_type": "display_data",
          "data": {
            "text/plain": [
              "<Figure size 1000x500 with 2 Axes>"
            ],
            "image/png": "[encoded data removed]"
          },
          "metadata": {}
        }
      ]
    },
    {
      "cell_type": "code",
      "execution_count": 11,
      "metadata": {
        "id": "iO_qOapLO3_5"
      },
      "outputs": [],
      "source": [
        "# Separando as variáveis explicativas (X) e a variável alvo (y)\n",
        "\n",
        "X = df_otimizado.drop(columns=['renda'])\n",
        "y = df_otimizado['renda']"
      ]
    },
    {
      "cell_type": "code",
      "source": [
        "print(X.isnull().sum())"
      ],
      "metadata": {
        "colab": {
          "base_uri": "https://localhost:8080/"
        },
        "id": "zgP_oop5gpKL",
        "outputId": "c52a2f7a-7d6c-4984-c6db-ad20a460be8d"
      },
      "execution_count": 12,
      "outputs": [
        {
          "output_type": "stream",
          "name": "stdout",
          "text": [
            "sexo                     0\n",
            "posse_de_veiculo         0\n",
            "posse_de_imovel          0\n",
            "qtd_filhos               0\n",
            "tipo_renda               0\n",
            "educacao                 0\n",
            "estado_civil             0\n",
            "tipo_residencia          0\n",
            "idade                    0\n",
            "tempo_emprego            0\n",
            "qt_pessoas_residencia    0\n",
            "dtype: int64\n"
          ]
        }
      ]
    },
    {
      "cell_type": "code",
      "source": [
        "#=================================================================================\n",
        "# 1) Separe a base em treinamento e teste (25% para teste, 75% para treinamento)\n",
        "#=================================================================================\n",
        "\n",
        "# Transformando categorias em dummies\n",
        "X = pd.get_dummies(X, drop_first=True)\n",
        "\n",
        "# Dividindo em treino e teste\n",
        "X_train, X_test, y_train, y_test = train_test_split(X, y, test_size=0.25, random_state=42)\n"
      ],
      "metadata": {
        "id": "XxzwMAkN1Y8T"
      },
      "execution_count": 21,
      "outputs": []
    },
    {
      "cell_type": "code",
      "source": [
        "# Normalizando os dados\n",
        "\n",
        "scaler = StandardScaler()\n",
        "X_train = scaler.fit_transform(X_train)\n",
        "X_test = scaler.transform(X_test)"
      ],
      "metadata": {
        "id": "2I3eQgviySw3"
      },
      "execution_count": 22,
      "outputs": []
    },
    {
      "cell_type": "code",
      "source": [
        "plt.figure(figsize=(10, 5))\n",
        "\n",
        "plt.subplot(1, 2, 1)\n",
        "sns.boxplot(data=X_train)\n",
        "plt.title('Antes da Normalização')\n",
        "\n",
        "plt.subplot(1, 2, 2)\n",
        "sns.boxplot(data=scaler.transform(X_train))\n",
        "plt.title('Depois da Normalização')\n",
        "\n",
        "plt.show()\n"
      ],
      "metadata": {
        "colab": {
          "base_uri": "https://localhost:8080/",
          "height": 503
        },
        "id": "Wr4EGmLH6tbF",
        "outputId": "b457d6ca-6859-430b-992c-81f51ea72561"
      },
      "execution_count": 23,
      "outputs": [
        {
          "output_type": "stream",
          "name": "stderr",
          "text": [
            "/usr/local/lib/python3.11/dist-packages/sklearn/utils/validation.py:2739: UserWarning: X does not have valid feature names, but StandardScaler was fitted with feature names\n",
            "  warnings.warn(\n"
          ]
        },
        {
          "output_type": "display_data",
          "data": {
            "text/plain": [
              "<Figure size 1000x500 with 2 Axes>"
            ],
            "image/png": "[encoded data removed]"
          },
          "metadata": {}
        }
      ]
    },
    {
      "cell_type": "code",
      "source": [
        "#=========================================================================================================================================\n",
        "# 2) Rode uma regularização ridge com alpha = [0, 0.001, 0.005, 0.01, 0.05, 0.1] e avalie o  R2  na base de testes. Qual o melhor modelo?\n",
        "#=========================================================================================================================================\n",
        "\n",
        "# Testando diferentes valores de alpha\n",
        "alphas = [0, 0.001, 0.005, 0.01, 0.05, 0.1, 1, 10, 100,1000,10000]\n",
        "for alpha in alphas:\n",
        "    model = Ridge(alpha=alpha)\n",
        "    model.fit(X_train, y_train)\n",
        "    y_pred = model.predict(X_test)\n",
        "    r2 = r2_score(y_test, y_pred)\n",
        "    print(f'Alpha: {alpha} | R²: {r2:.6}')"
      ],
      "metadata": {
        "colab": {
          "base_uri": "https://localhost:8080/"
        },
        "id": "01cRFCDMiP9K",
        "outputId": "bdc9a2e3-6abb-464f-e573-88bb986d89a0"
      },
      "execution_count": 24,
      "outputs": [
        {
          "output_type": "stream",
          "name": "stdout",
          "text": [
            "Alpha: 0 | R²: 0.251327\n",
            "Alpha: 0.001 | R²: 0.251327\n",
            "Alpha: 0.005 | R²: 0.251327\n",
            "Alpha: 0.01 | R²: 0.251327\n",
            "Alpha: 0.05 | R²: 0.251327\n",
            "Alpha: 0.1 | R²: 0.251327\n",
            "Alpha: 1 | R²: 0.251325\n",
            "Alpha: 10 | R²: 0.251306\n",
            "Alpha: 100 | R²: 0.25112\n",
            "Alpha: 1000 | R²: 0.247989\n",
            "Alpha: 10000 | R²: 0.18742\n"
          ]
        }
      ]
    },
    {
      "cell_type": "code",
      "source": [
        "#====================================================================================================\n",
        "# 3) Faça o mesmo que no passo 2, com uma regressão LASSO. Qual método chega a um melhor resultado?\n",
        "#====================================================================================================\n",
        "\n",
        "# Treinar o modelo LASSO\n",
        "lasso = Lasso(alpha=100)  # Você pode experimentar diferentes valores de alpha\n",
        "lasso.fit(X_train, y_train)\n",
        "\n",
        "# Fazer previsões e calcular R²\n",
        "y_pred_lasso = lasso.predict(X_test)\n",
        "r2_lasso = r2_score(y_test, y_pred_lasso)\n",
        "\n",
        "print(f'R² do modelo Ridge: {r2:.4}')\n",
        "print(f'R² do modelo LASSO: {r2_lasso:.4f}')\n",
        "\n"
      ],
      "metadata": {
        "id": "QKe-Fx1LeZOg",
        "outputId": "e01d5d83-7387-4e30-dca1-d6f3c1fe3654",
        "colab": {
          "base_uri": "https://localhost:8080/"
        }
      },
      "execution_count": 25,
      "outputs": [
        {
          "output_type": "stream",
          "name": "stdout",
          "text": [
            "R² do modelo Ridge: 0.1874\n",
            "R² do modelo LASSO: 0.2481\n"
          ]
        }
      ]
    },
    {
      "cell_type": "code",
      "source": [
        "#========================================================================================\n",
        "# 4) Rode um modelo stepwise. Avalie o  R2  na vase de testes. Qual o melhor resultado?\n",
        "#========================================================================================\n",
        "\n",
        "# 1. Criar o modelo stepwise\n",
        "sfs = SequentialFeatureSelector(LinearRegression(),\n",
        "                              k_features='best',\n",
        "                              forward=True,\n",
        "                              scoring='r2',\n",
        "                              cv=5,\n",
        "                              n_jobs=-1)  # usa todos os processadores\n",
        "\n",
        "# 2. Ajustar o modelo aos dados de treino\n",
        "sfs = sfs.fit(X_train, y_train)\n",
        "\n",
        "# 3. Obter as features selecionadas\n",
        "selected_features = X.columns[list(sfs.k_feature_idx_)]\n",
        "print('a. Variáveis selecionadas:', list(selected_features))\n",
        "\n",
        "# 4. Criar um modelo apenas com as features selecionadas\n",
        "model = LinearRegression()\n",
        "model.fit(X_train[:, sfs.k_feature_idx_], y_train)\n",
        "\n",
        "# 5. Avaliar na base de teste\n",
        "y_pred = model.predict(X_test[:, sfs.k_feature_idx_])\n",
        "r2 = r2_score(y_test, y_pred)\n",
        "\n",
        "# 6. Mostrar estatísticas detalhadas\n",
        "print(f'\\nb.Número de features selecionadas: {len(selected_features)}')\n",
        "print(f'c. Features selecionadas: {list(selected_features)}')\n",
        "print(f'd. Score R² no treino: {sfs.k_score_:.4f}')\n",
        "print(f'e. Score R² no teste: {r2:.4f}')\n",
        "print('\\n')\n",
        "print(f'O melhor resultado de R² é o de Ridge')"
      ],
      "metadata": {
        "colab": {
          "base_uri": "https://localhost:8080/"
        },
        "id": "ppyCqrshm5Xo",
        "outputId": "1d6c6954-284b-4858-d583-944e62a17ce7"
      },
      "execution_count": 27,
      "outputs": [
        {
          "output_type": "stream",
          "name": "stdout",
          "text": [
            "a. Variáveis selecionadas: ['posse_de_imovel', 'idade', 'tempo_emprego', 'qt_pessoas_residencia', 'sexo_M', 'tipo_renda_Empresário', 'tipo_renda_Pensionista', 'educacao_Superior completo', 'educacao_Superior incompleto', 'estado_civil_Solteiro', 'estado_civil_União']\n",
            "\n",
            "b.Número de features selecionadas: 11\n",
            "c. Features selecionadas: ['posse_de_imovel', 'idade', 'tempo_emprego', 'qt_pessoas_residencia', 'sexo_M', 'tipo_renda_Empresário', 'tipo_renda_Pensionista', 'educacao_Superior completo', 'educacao_Superior incompleto', 'estado_civil_Solteiro', 'estado_civil_União']\n",
            "d. Score R² no treino: 0.2420\n",
            "e. Score R² no teste: 0.2517\n",
            "\n",
            "\n",
            "O melhor resultado de R² é o de Ridge\n"
          ]
        }
      ]
    },
    {
      "cell_type": "markdown",
      "source": [
        "##5) Compare os parâmetros e avalie eventuais diferenças. Qual modelo você acha o melhor de todos?\n",
        "\n",
        "## Interpretando os resultados: R² de cada teste:\n",
        "\n",
        "| Lasso                 | Ridge                 |Stepwise                 |\n",
        "| --------------------- | --------------------- | ---------------------   |\n",
        "| 0.2481                | 0.2690                | 0.2690                  |\n",
        "\n",
        "\n",
        "## R: O melhor modelo é o Stepwise, devido a alta interpretabilidade."
      ],
      "metadata": {
        "id": "DAjJPaP_5g7B"
      }
    },
    {
      "cell_type": "code",
      "source": [
        "# =================================================================================================================================================================================\n",
        "# 6) Partindo dos modelos que você ajustou, tente melhorar o  R2  na base de testes. Use a criatividade, veja se consegue inserir alguma transformação ou combinação de variáveis.\n",
        "# =================================================================================================================================================================================\n",
        "\n",
        "# Aplicando log na variável alvo\n",
        "y_log = np.log(y)\n",
        "\n",
        "# Dividindo novamente em treino e teste\n",
        "X_train, X_test, y_train, y_test = train_test_split(X, y_log, test_size=0.25, random_state=42)\n",
        "\n",
        "# Treinando a regressão linear com log(y)\n",
        "lr_model = LinearRegression()\n",
        "lr_model.fit(X_train, y_train)\n",
        "y_pred_log = lr_model.predict(X_test)\n",
        "\n",
        "# Avaliando o modelo\n",
        "r2_log = r2_score(y_test, y_pred_log)\n",
        "print(f'R² com log(y): {r2_log:.4f}')\n"
      ],
      "metadata": {
        "colab": {
          "base_uri": "https://localhost:8080/"
        },
        "id": "fgdculiUEmNJ",
        "outputId": "23065887-328f-42f7-891d-9b55d7bbd52e"
      },
      "execution_count": 28,
      "outputs": [
        {
          "output_type": "stream",
          "name": "stdout",
          "text": [
            "R² com log(y): 0.3314\n"
          ]
        }
      ]
    },
    {
      "cell_type": "code",
      "source": [
        "X['idade_tempo_emprego'] = X['idade'] * X['tempo_emprego']\n",
        "\n",
        "# Criando uma nova divisão treino/teste\n",
        "X_train, X_test, y_train, y_test = train_test_split(X, y_log, test_size=0.25, random_state=42)\n",
        "\n",
        "# Treinando o modelo novamente\n",
        "lr_model.fit(X_train, y_train)\n",
        "y_pred_interacao = lr_model.predict(X_test)\n",
        "\n",
        "# Avaliando o impacto da nova feature\n",
        "r2_interacao = r2_score(y_test, y_pred_interacao)\n",
        "print(f'R² com interação idade * tempo_emprego: {r2_interacao:.4f}')\n"
      ],
      "metadata": {
        "colab": {
          "base_uri": "https://localhost:8080/"
        },
        "id": "xR_IpBCmFCv7",
        "outputId": "a4ffdf24-2c62-45d5-8d45-1b441ae49059"
      },
      "execution_count": 29,
      "outputs": [
        {
          "output_type": "stream",
          "name": "stdout",
          "text": [
            "R² com interação idade * tempo_emprego: 0.3393\n"
          ]
        }
      ]
    },
    {
      "cell_type": "code",
      "source": [
        "# ============================================================================\n",
        "# Ajuste uma árvore de regressão e veja se consegue um R² melhor com ela.\n",
        "# ============================================================================\n",
        "\n",
        "# Criando o modelo de árvore de decisão\n",
        "tree_model = DecisionTreeRegressor(random_state=42)\n",
        "\n",
        "# Treinando a árvore com os dados\n",
        "tree_model.fit(X_train, y_train)\n",
        "\n",
        "# Fazendo previsões\n",
        "y_pred_tree = tree_model.predict(X_test)\n",
        "\n",
        "# Avaliando o modelo\n",
        "r2_tree = r2_score(y_test, y_pred_tree)\n",
        "print(f'R² da Árvore de Regressão: {r2_tree:.4f}')\n"
      ],
      "metadata": {
        "colab": {
          "base_uri": "https://localhost:8080/"
        },
        "id": "8lsGSvISFgZO",
        "outputId": "fa3fe803-dec8-4039-fd7d-fdf7f866b2ba"
      },
      "execution_count": 32,
      "outputs": [
        {
          "output_type": "stream",
          "name": "stdout",
          "text": [
            "R² da Árvore de Regressão: 0.2121\n"
          ]
        }
      ]
    },
    {
      "cell_type": "code",
      "source": [
        "# Analisando a árvore\n",
        "\n",
        "print('Profundidade da Árvore de Regressão:')\n",
        "for depth in [3, 5, 7, 10, None]:  # None = árvore sem limite de profundidade\n",
        "    tree_model = DecisionTreeRegressor(max_depth=depth, random_state=42)\n",
        "    tree_model.fit(X_train, y_train)\n",
        "    y_pred_tree = tree_model.predict(X_test)\n",
        "    r2_tree = r2_score(y_test, y_pred_tree)\n",
        "    print(f'Profundidade {depth} | R²: {r2_tree:.4f}')\n"
      ],
      "metadata": {
        "colab": {
          "base_uri": "https://localhost:8080/"
        },
        "id": "lHcdcnc0FigE",
        "outputId": "b14be5f8-6708-45f1-f90a-8729559bcb94"
      },
      "execution_count": 33,
      "outputs": [
        {
          "output_type": "stream",
          "name": "stdout",
          "text": [
            "Profundidade da Árvore de Regressão:\n",
            "Profundidade 3 | R²: 0.3178\n",
            "Profundidade 5 | R²: 0.3450\n",
            "Profundidade 7 | R²: 0.3571\n",
            "Profundidade 10 | R²: 0.3291\n",
            "Profundidade None | R²: 0.2121\n"
          ]
        }
      ]
    }
  ],
  "metadata": {
    "kernelspec": {
      "display_name": "Python 3",
      "language": "python",
      "name": "python3"
    },
    "language_info": {
      "codemirror_mode": {
        "name": "ipython",
        "version": 3
      },
      "file_extension": ".py",
      "mimetype": "text/x-python",
      "name": "python",
      "nbconvert_exporter": "python",
      "pygments_lexer": "ipython3",
      "version": "3.8.5"
    },
    "colab": {
      "provenance": []
    }
  },
  "nbformat": 4,
  "nbformat_minor": 0
}