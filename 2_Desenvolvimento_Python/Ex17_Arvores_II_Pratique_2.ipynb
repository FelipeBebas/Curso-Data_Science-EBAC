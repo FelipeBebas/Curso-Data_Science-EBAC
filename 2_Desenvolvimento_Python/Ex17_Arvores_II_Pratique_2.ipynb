{
  "cells": [
    {
      "cell_type": "markdown",
      "metadata": {
        "id": "EJRFWhKgsjzW"
      },
      "source": [
        "# Árvores II - Tarefa 2"
      ]
    },
    {
      "cell_type": "markdown",
      "metadata": {
        "id": "35a08FyksjzX"
      },
      "source": [
        "### 1. Carregar as bases\n",
        "\n",
        "Vamos carregar as bases lidas na tarefa passada. Se você salvou essas bases em arquivo texto, basta fazer a leitura com o comando ```pd.read_csv``` das seguintes bases:\n",
        "\n",
        "- X_train\n",
        "- Y_train\n",
        "- X_test\n",
        "- Y_test\n",
        "\n",
        "Não se esqueça de considerar a leitura dos índices dos arquivos no ```read_csv()```!"
      ]
    },
    {
      "cell_type": "code",
      "execution_count": 2,
      "metadata": {
        "id": "D3SP-WoPsjzX"
      },
      "outputs": [],
      "source": [
        "import pandas as pd\n",
        "import seaborn as sns\n",
        "import matplotlib.pyplot as plt\n",
        "import numpy as np\n",
        "from sklearn.tree import DecisionTreeClassifier\n",
        "from sklearn.model_selection import train_test_split\n",
        "from sklearn.metrics import ConfusionMatrixDisplay\n",
        "\n"
      ]
    },
    {
      "cell_type": "markdown",
      "metadata": {
        "id": "PMmbdrJnsjzY"
      },
      "source": [
        "### 2. Divisão da base em Treino, Validação e Teste\n",
        "\n",
        "A base já se encontra dividida em Treino e Validação. O que vamos fazer então é extrair uma base de Validação da base de Treino.\n",
        "\n",
        "Extraia 25% da base de treino como base de validação."
      ]
    },
    {
      "cell_type": "code",
      "execution_count": 8,
      "metadata": {
        "id": "FUYf0g0psjzZ",
        "colab": {
          "base_uri": "https://localhost:8080/"
        },
        "outputId": "84332f26-135c-43a2-e5db-71d33b21484b"
      },
      "outputs": [
        {
          "output_type": "stream",
          "name": "stderr",
          "text": [
            "<ipython-input-8-e07742e0b036>:1: FutureWarning: The 'delim_whitespace' keyword in pd.read_csv is deprecated and will be removed in a future version. Use ``sep='\\s+'`` instead\n",
            "  X_train = pd.read_csv('/content/X_train.txt', delim_whitespace=True, header=None)\n",
            "<ipython-input-8-e07742e0b036>:2: FutureWarning: The 'delim_whitespace' keyword in pd.read_csv is deprecated and will be removed in a future version. Use ``sep='\\s+'`` instead\n",
            "  X_test = pd.read_csv('/content/X_test.txt', delim_whitespace=True, header=None)\n"
          ]
        }
      ],
      "source": [
        "X_train = pd.read_csv('/content/X_train.txt', delim_whitespace=True, header=None)\n",
        "X_test = pd.read_csv('/content/X_test.txt', delim_whitespace=True, header=None)\n",
        "y_train = pd.read_csv('/content/y_train.txt', header=None)\n",
        "y_test = pd.read_csv('/content/y_test.txt', header=None)"
      ]
    },
    {
      "cell_type": "code",
      "source": [
        "# Divisão: 75% treino, 25% validação\n",
        "X_train_final, X_val, y_train_final, y_val = train_test_split(\n",
        "    X_train, y_train, test_size=0.25, random_state=42\n",
        ")\n"
      ],
      "metadata": {
        "id": "PU59F2yzDYVY"
      },
      "execution_count": 9,
      "outputs": []
    },
    {
      "cell_type": "code",
      "source": [
        "print(X_val.shape)\n",
        "print(y_val.shape)\n",
        "print(X_train_final.shape)\n",
        "print(y_train_final.shape)"
      ],
      "metadata": {
        "colab": {
          "base_uri": "https://localhost:8080/"
        },
        "id": "5DcTURXXDmAp",
        "outputId": "561d63a4-db50-421f-f9a2-1952937c7624"
      },
      "execution_count": 10,
      "outputs": [
        {
          "output_type": "stream",
          "name": "stdout",
          "text": [
            "(1838, 561)\n",
            "(1838, 1)\n",
            "(5514, 561)\n",
            "(5514, 1)\n"
          ]
        }
      ]
    },
    {
      "cell_type": "code",
      "source": [
        "proporcao_val = len(X_val) / (len(X_val) + len(X_train_final))\n",
        "print(f\"Proporção da base de validação: {proporcao_val:.2%}\")\n"
      ],
      "metadata": {
        "colab": {
          "base_uri": "https://localhost:8080/"
        },
        "id": "obF9ec4cD2wf",
        "outputId": "982aaa27-b925-4d89-b337-5fbd0c99d8c6"
      },
      "execution_count": 11,
      "outputs": [
        {
          "output_type": "stream",
          "name": "stdout",
          "text": [
            "Proporção da base de validação: 25.00%\n"
          ]
        }
      ]
    },
    {
      "cell_type": "markdown",
      "metadata": {
        "id": "RfhBcV7osjzZ"
      },
      "source": [
        "### 3. Melhores 3 variáveis\n",
        "\n",
        "Rode uma árvore com profundidade máxima igual a 4 para prever a atividade humana com todas as variáveis.\n",
        "Observe a importância das variáveis e considere as 3 variáveis com maior importância para os próximos passos.\n",
        "Dica: utilize o atributo ```clf.feature_importances_``` da árvore treinada."
      ]
    },
    {
      "cell_type": "code",
      "execution_count": 12,
      "metadata": {
        "id": "dEWkP7FYsjza",
        "colab": {
          "base_uri": "https://localhost:8080/"
        },
        "outputId": "9c586bbf-68b1-46e8-b72b-4fa2c248337c"
      },
      "outputs": [
        {
          "output_type": "stream",
          "name": "stdout",
          "text": [
            "     variavel  importancia\n",
            "52         52     0.285303\n",
            "389       389     0.254091\n",
            "41         41     0.164608\n"
          ]
        }
      ],
      "source": [
        "# Treinar a árvore com profundidade máxima = 4\n",
        "clf = DecisionTreeClassifier(max_depth=4, random_state=42)\n",
        "clf.fit(X_train_final, y_train_final.values.ravel())  # ravel() para transformar em vetor 1D\n",
        "\n",
        "# Coletar as importâncias das variáveis\n",
        "importancias = clf.feature_importances_\n",
        "\n",
        "# Cria um DataFrame com nomes e importâncias (usando posições como nomes se não houver colunas nomeadas)\n",
        "df_importancias = pd.DataFrame({\n",
        "    'variavel': X_train_final.columns,\n",
        "    'importancia': importancias\n",
        "})\n",
        "\n",
        "# Ordena pelas mais importantes\n",
        "top_variaveis = df_importancias.sort_values(by='importancia', ascending=False).head(3)\n",
        "print(top_variaveis)\n"
      ]
    },
    {
      "cell_type": "markdown",
      "metadata": {
        "id": "lMVJTXg_sjza"
      },
      "source": [
        "### 4. Construa uma árvore com as 3 melhores variáveis\n",
        "\n",
        "Utilizando as três variáveis encontradas acima, construa uma árvore de decisão. Encontre o melhor ```ccp_alpha``` utilizando a base de validação, conforme a estrutura que vimos em aula."
      ]
    },
    {
      "cell_type": "code",
      "execution_count": 13,
      "metadata": {
        "id": "60XAefLKsjza",
        "colab": {
          "base_uri": "https://localhost:8080/"
        },
        "outputId": "763f44d7-7076-4c5b-cddf-cba801e45ca3"
      },
      "outputs": [
        {
          "output_type": "stream",
          "name": "stdout",
          "text": [
            "Melhor ccp_alpha: 0.0002747826469262813\n",
            "Acurácia final na validação: 0.8933623503808488\n",
            "CPU times: user 9.12 s, sys: 28.5 ms, total: 9.15 s\n",
            "Wall time: 12 s\n"
          ]
        }
      ],
      "source": [
        "%%time\n",
        "\n",
        "from sklearn.tree import DecisionTreeClassifier\n",
        "from sklearn.metrics import accuracy_score\n",
        "import numpy as np\n",
        "\n",
        "# Suponha que top_variaveis tenha sido definido anteriormente\n",
        "top3_indices = top_variaveis['variavel'].values\n",
        "\n",
        "# Seleciona só as 3 melhores variáveis\n",
        "X_train_top3 = X_train_final[top3_indices]\n",
        "X_val_top3 = X_val[top3_indices]\n",
        "\n",
        "# Árvore inicial para obter ccp_alphas possíveis\n",
        "clf = DecisionTreeClassifier(random_state=42)\n",
        "path = clf.cost_complexity_pruning_path(X_train_top3, y_train_final)\n",
        "ccp_alphas = path.ccp_alphas\n",
        "\n",
        "# Treinar uma árvore para cada alpha\n",
        "modelos = []\n",
        "valid_scores = []\n",
        "\n",
        "for alpha in ccp_alphas:\n",
        "    clf_alpha = DecisionTreeClassifier(random_state=42, ccp_alpha=alpha)\n",
        "    clf_alpha.fit(X_train_top3, y_train_final)\n",
        "    y_val_pred = clf_alpha.predict(X_val_top3)\n",
        "    acc = accuracy_score(y_val, y_val_pred)\n",
        "    modelos.append(clf_alpha)\n",
        "    valid_scores.append(acc)\n",
        "\n",
        "# Encontra o melhor alpha\n",
        "melhor_alpha = ccp_alphas[np.argmax(valid_scores)]\n",
        "print(\"Melhor ccp_alpha:\", melhor_alpha)\n",
        "\n",
        "# Treina árvore final com o melhor alpha\n",
        "arvore_final = DecisionTreeClassifier(random_state=42, ccp_alpha=melhor_alpha)\n",
        "arvore_final.fit(X_train_top3, y_train_final)\n",
        "\n",
        "# Acurácia final na validação\n",
        "acc_final = accuracy_score(y_val, arvore_final.predict(X_val_top3))\n",
        "print(\"Acurácia final na validação:\", acc_final)\n",
        "\n"
      ]
    },
    {
      "cell_type": "markdown",
      "metadata": {
        "id": "MqwANFoZsjza"
      },
      "source": [
        "### 5. Avaliação do modelo\n",
        "\n",
        "Avalie a árvore encontrada no item anterior na base de testes."
      ]
    },
    {
      "cell_type": "code",
      "execution_count": 19,
      "metadata": {
        "id": "uW78kLdmsjza",
        "colab": {
          "base_uri": "https://localhost:8080/"
        },
        "outputId": "3c933c75-6438-4c41-a2b5-1afc3699bb7a"
      },
      "outputs": [
        {
          "output_type": "stream",
          "name": "stdout",
          "text": [
            "Acurácia na base de teste: 68.65%\n"
          ]
        }
      ],
      "source": [
        "# Seleciona as mesmas 3 variáveis no conjunto de teste\n",
        "X_test_top3 = X_test[top3_indices]\n",
        "\n",
        "# Predição na base de teste\n",
        "y_test_pred = arvore_final.predict(X_test_top3)\n",
        "\n",
        "# Acurácia\n",
        "acc_teste = accuracy_score(y_test, y_test_pred)\n",
        "print(f\"Acurácia na base de teste: {acc_teste:.2%}\")"
      ]
    }
  ],
  "metadata": {
    "kernelspec": {
      "display_name": "Python 3",
      "language": "python",
      "name": "python3"
    },
    "language_info": {
      "codemirror_mode": {
        "name": "ipython",
        "version": 3
      },
      "file_extension": ".py",
      "mimetype": "text/x-python",
      "name": "python",
      "nbconvert_exporter": "python",
      "pygments_lexer": "ipython3",
      "version": "3.8.5"
    },
    "colab": {
      "provenance": []
    }
  },
  "nbformat": 4,
  "nbformat_minor": 0
}